


import numpy as np
from IPython.display import clear_output
import time
import random
import copy
import pandas as pd
from tqdm import tqdm
# https://www.youtube.com/watch?v=UXW2yZndl7U





# Using 2x6x7 representation
def update_board(board_temp,color,column):
    # this is a function that takes the current board status, a color, and a column and outputs the new board status
    # columns 0 - 6 are for putting a checker on the board: if column is full just return the current board...this should be forbidden by the player
    
    # the color input should be either 'plus' or 'minus'
    
    board = board_temp.copy()
    ncol = board.shape[2]
    nrow = board.shape[1]
    
    # this seems silly, but actually faster to run than using sum because of overhead!
    colsum = sum(board[0, row, column] + board[1, row, column] for row in range(nrow))
    row = int(5-colsum)
    if row > -0.5:
        if color == 'red':
            board[0,row,column] = 1
        else:
            board[1,row,column] = 1
    return board


def check_for_win(board,col):
    nrow, ncol = board.shape[1], board.shape[2]
    colsum = sum(board[0, row, col] + board[1, row, col] for row in range(nrow))
    row = int(6-colsum)
    
    # Check vertical
    if row + 3 < nrow: # Must be in the top 3 rows (0, 1, 2) for win to occur
        if all(board[0, row + i, col] == 1 for i in range(4)): 
            return 'v-red'
        elif all(board[1, row + i, col] == 1 for i in range(4)):
            return 'v-yellow'
        
            
    # Check horizontal
    for dx in range(-3, 1):
        if all(0 <= col + dx + i < ncol and board[0, row, col + dx + i] == 1 for i in range(4)):
            return 'h-red'
        elif all(0 <= col + dx + i < ncol and board[1, row, col + dx + i] == 1 for i in range(4)):
            return 'h-yellow'
            
    # Check diagonal (bottom-left to top-right)
    for dx in range(-3, 1):
        if all(0 <= row + i < nrow and 0 <= col + dx + i < ncol and board[0, row + i, col + dx + i] == 1 for i in range(4)):
            return 'd-red'
        elif all(0 <= row + i < nrow and 0 <= col + dx + i < ncol and board[1, row + i, col + dx + i] == 1 for i in range(4)):
            return 'd-yellow'

    # Check diagonal (top-left to bottom-right)
    for dx in range(-3, 1):
        if all(0 <= row - i < nrow and 0 <= col + dx + i < ncol and board[0, row - i, col + dx + i] == 1 for i in range(4)):
            return 'd-red'
        elif all(0 <= row - i < nrow and 0 <= col + dx + i < ncol and board[1, row - i, col + dx + i] == 1 for i in range(4)):
            return 'd-yellow'

    return 'nobody'


def find_legal(board):
    board = board[0] + board[1]
    # Identify columns that aren't full
    legal = [i for i in range(7) if board[0,i] == 0]
    return legal


def look_for_win(board_,color):
    board_ = board_.copy()
    legal = find_legal(board_)
    winner = -1
    for m in legal:
        bt = update_board(board_.copy(),color,m)
        wi = check_for_win(bt,m)
        if wi[2:] == color:
            winner = m
            break
    return winner


def find_all_nonlosers(board,color):
    if color == 'red':
        opp = 'yellow'
    else:
        opp = 'red'
    legal = find_legal(board)
    poss_boards = [update_board(board,color,l) for l in legal]
    poss_legal = [find_legal(b) for b in poss_boards]
    allowed = []
    for i in range(len(legal)):
        wins = [j for j in poss_legal[i] if check_for_win(update_board(poss_boards[i],opp,j),j) != 'nobody']
        if len(wins) == 0:
            allowed.append(legal[i])
    return allowed


# Not sure I fully understand this function. Why does the opponent get +1 if color0 wins?
def back_prop(winner,path,color0,md):
    for i in range(len(path)):
        board_temp = path[i]
        
        md[board_temp][0]+=1
        if winner[2]==color0[0]:
            if i % 2 == 1: # opponent's move
                md[board_temp][1] += 1
            else:
                md[board_temp][1] -= 1
        elif winner[2]=='e': # tie
            # md[board_temp][1] += 0
            pass
        else:
            if i % 2 == 1: # oponent's move
                md[board_temp][1] -= 1
            else:
                md[board_temp][1] += 1


def rollout(board,next_player):
    winner = 'nobody'
    player = next_player
    while winner == 'nobody':
        legal = find_legal(board)
        if len(legal) == 0:
            winner = 'tie'
            return winner
        move = random.choice(legal)
        board = update_board(board,player,move)
        winner = check_for_win(board,move)
        
        if player == 'red':
            player = 'yellow'
        else:
            player = 'red'
    return winner


def better_rollout(board, next_player):
    """
    Will look for a winning move first. If that doesn't exist, will play a move that doesn't lead to opponent immediately winning. 
    If that doesn't exist, will play a random legal move.
    """
    winner = 'nobody'
    player = next_player
    while winner == 'nobody':

        legal = find_legal(board)
        if len(legal) == 0:
            winner = 'tie'
            return winner
        winColumn = look_for_win(board,player) # check to find a winning column
        if winColumn > -0.5:
            move = winColumn # if there is one - play that!
        else:
            legal = find_all_nonlosers(board,player) # find all moves that won't immediately lead to your opponent winning
            if len(legal) == 0: # if you can't block your opponent - just find the 'best' losing move
                legal = find_legal(board)
            move = random.choice(legal)
        board = update_board(board,player,move)
        winner = check_for_win(board,move)
        
        if player == 'red':
            player = 'yellow'
        else:
            player = 'red'
    return winner


def mcts(board_temp,color0,nsteps):
    # nsteps is a parameter that determines the skill (and slowness) of the player
    # bigger values of nsteps means the player is better, but also slower to figure out a move.
    board = board_temp.copy()
    ##############################################
    winColumn = look_for_win(board,color0) # check to find a winning column
    if winColumn > -0.5:
        return winColumn # if there is one - play that!
    legal0 = find_all_nonlosers(board,color0) # find all moves that won't immediately lead to your opponent winning
    if len(legal0) == 0: # if you can't block your opponent - just find the 'best' losing move
        legal0 = find_legal(board)
    ##############################################
    # the code above, in between the hash rows, is not part of traditional MCTS
    # but it makes it better and faster - so I included it!
    # MCTS occasionally makes stupid mistakes
    # like not dropping the checker on a winning column, or not blocking an obvious opponent win
    # this avoids a little bit of that stupidity!
    # we could also add this logic to the rest of the MCTS and rollout functions - I just haven't done that yet...
    # feel free to experiment!
    mcts_dict = {tuple(board.ravel()):[0,0]}
    for ijk in range(nsteps):
        color = color0
        winner = 'nobody'
        board_mcts = board.copy()
        path = [tuple(board_mcts.ravel())]
        # plya until someone wins or there is a tie
        while winner == 'nobody':
            legal = find_legal(board_mcts)
            if len(legal) == 0:
                winner = 'tie'
                back_prop(winner,path,color0,mcts_dict)
                break
            board_list = []
            for col in legal:
                board_list.append(tuple(update_board(board_mcts,color,col).ravel()))
            for bl in board_list:
                if bl not in mcts_dict.keys():
                    mcts_dict[bl] = [0,0]
            ucb1 = np.zeros(len(legal))
            for i in range(len(legal)):
                num_denom = mcts_dict[board_list[i]]
                if num_denom[0] == 0:
                    ucb1[i] = 10*nsteps
                else:
                    ucb1[i] = num_denom[1]/num_denom[0] + 2*np.sqrt(np.log(mcts_dict[path[-1]][0])/mcts_dict[board_list[i]][0])
            chosen = np.argmax(ucb1)
            
            board_mcts = update_board(board_mcts,color,legal[chosen])
            path.append(tuple(board_mcts.ravel()))
            winner = check_for_win(board_mcts,legal[chosen])
            if winner[2]==color[0]:
                back_prop(winner,path,color0,mcts_dict)
                break
            if color == 'red':
                color = 'yellow'
            else:
                color = 'red' 
            if mcts_dict[tuple(board_mcts.ravel())][0] == 0:
                winner = rollout(board_mcts,color)
                back_prop(winner,path,color0,mcts_dict)
                break
            
    maxval = -np.inf
    best_col = -1
    for col in legal0:
        board_temp = tuple(update_board(board,color0,col).ravel())
        num_denom = mcts_dict[board_temp]
        if num_denom[0] == 0:
            compare = -np.inf
        else:
            compare = num_denom[1] / num_denom[0]
        if compare > maxval:
            maxval = compare
            best_col = col
    return (best_col)


def better_mcts(board_temp,color0,nsteps):
    """
    This version of MCTS uses the better rollout function that guarantees each player will play a winning move or block
    before choosing a random move.
    """
    # nsteps is a parameter that determines the skill (and slowness) of the player
    # bigger values of nsteps means the player is better, but also slower to figure out a move.
    board = board_temp.copy()
    ##############################################
    winColumn = look_for_win(board,color0) # check to find a winning column
    if winColumn > -0.5:
        return winColumn # if there is one - play that!
    legal0 = find_all_nonlosers(board,color0) # find all moves that won't immediately lead to your opponent winning
    if len(legal0) == 0: # if you can't block your opponent - just find the 'best' losing move
        legal0 = find_legal(board)
    ##############################################
    # the code above, in between the hash rows, is not part of traditional MCTS
    # but it makes it better and faster - so I included it!
    # MCTS occasionally makes stupid mistakes
    # like not dropping the checker on a winning column, or not blocking an obvious opponent win
    # this avoids a little bit of that stupidity!
    # we could also add this logic to the rest of the MCTS and rollout functions - I just haven't done that yet...
    # feel free to experiment!
    mcts_dict = {tuple(board.ravel()):[0,0]}
    for ijk in range(nsteps):
        color = color0
        winner = 'nobody'
        board_mcts = board.copy()
        path = [tuple(board_mcts.ravel())]
        # plya until someone wins or there is a tie
        while winner == 'nobody':
            legal = find_legal(board_mcts)
            if len(legal) == 0:
                winner = 'tie'
                back_prop(winner,path,color0,mcts_dict)
                break
            board_list = []
            for col in legal:
                board_list.append(tuple(update_board(board_mcts,color,col).ravel()))
            for bl in board_list:
                if bl not in mcts_dict.keys():
                    mcts_dict[bl] = [0,0]
            ucb1 = np.zeros(len(legal))
            for i in range(len(legal)):
                num_denom = mcts_dict[board_list[i]]
                if num_denom[0] == 0:
                    ucb1[i] = 10*nsteps
                else:
                    ucb1[i] = num_denom[1]/num_denom[0] + 2*np.sqrt(np.log(mcts_dict[path[-1]][0])/mcts_dict[board_list[i]][0])
            chosen = np.argmax(ucb1)
            
            board_mcts = update_board(board_mcts,color,legal[chosen])
            path.append(tuple(board_mcts.ravel()))
            winner = check_for_win(board_mcts,legal[chosen])
            if winner[2]==color[0]:
                back_prop(winner,path,color0,mcts_dict)
                break
            if color == 'red':
                color = 'yellow'
            else:
                color = 'red' 
            if mcts_dict[tuple(board_mcts.ravel())][0] == 0:
                winner = better_rollout(board_mcts,color)
                back_prop(winner,path,color0,mcts_dict)
                break
            
    maxval = -np.inf
    best_col = -1
    for col in legal0:
        board_temp = tuple(update_board(board,color0,col).ravel())
        num_denom = mcts_dict[board_temp]
        if num_denom[0] == 0:
            compare = -np.inf
        else:
            compare = num_denom[1] / num_denom[0]
        if compare > maxval:
            maxval = compare
            best_col = col
    return (best_col)








player_one_moves = []
wins = 0  # Record the number of wins for 'red'
moves_per_game = []  # Record the number of moves per game

# Use tqdm for a progress bar
for i in tqdm(range(1), desc="Simulating Games", unit="game"):
    board = np.zeros((2,6,7))  # Reset board
    winner = 'nobody'  # Reset winner
    color = 'red'  # Red always starts
    moves = 0  # Reset move count
    
    while winner == 'nobody':
        if color == 'yellow':
            col = mcts(board, color, 300)
        else:
            col = mcts(board, color, 1500)
            # Store move only for player 1
            player_one_moves.append((tuple(board.ravel()), col))
        
        # Update board
        board = update_board(board, color, col)
        
        # Check for win
        winner = check_for_win(board, col)
        
        # Switch player
        color = 'yellow' if color == 'red' else 'red'
        
        moves += 1
    
    # Record game result
    moves_per_game.append(moves)
    if winner[2] == 'r':
        wins += 1


moves_per_game


df = pd.DataFrame(player_one_moves, columns=["x", "y"])
print(np.array(df.loc[17, 'x']).reshape((2,6,7)))
print(df.loc[17, 'y'])
plot_connect4(np.array(df.loc[17, 'x']).reshape((2,6,7)))


# How long it'll take for 1000 simulations
12.64 * 1000 / 60 / 60


# random moves inserted to diversify dataset
for i in range(200):   
    board = np.zeros((2,6,7))  # Reset board
    m = random.choice(find_legal(board))
    board = update_board(board, 'red', m)
    m = random.choice(find_legal(board))
    board = update_board(board, 'yellow', m)
    winner = 'nobody'  # Reset winner
    color = 'red'  # Red always starts
    moves = 2  # Reset move count
    
    while winner == 'nobody':
        if color == 'yellow':
            col = mcts(board, color, 300)
        else:
            col = mcts(board, color, 1500)
            # Store move only for player 1
            player_one_moves.append((tuple(board.ravel()), col))
        
        # Update board
        board = update_board(board, color, col)
        
        # Check for win
        winner = check_for_win(board, col)
        
        # Switch player
        color = 'yellow' if color == 'red' else 'red'
        
        moves += 1
    
    # Record game result
    moves_per_game.append(moves)
    if winner[2] == 'r':
        wins += 1


# Save player one moves
df = pd.DataFrame(player_one_moves, columns=["x", "y"])
df.to_csv("player_one_moves.csv", index=False)


player_two_moves = []
wins = 0  # Record the number of wins for 'red'
moves_per_game = []  # Record the number of moves per game

# Use tqdm for a progress bar
for i in tqdm(range(1000), desc="Simulating Games", unit="game"):
    board = np.zeros((2,6,7))  # Reset board
    winner = 'nobody'  # Reset winner
    color = 'red'  # Red always starts
    moves = 0  # Reset move count
    
    while winner == 'nobody':
        if color == 'yellow':
            col = mcts(board, color, 300)
            # Store move only for player 2
            player_two_moves.append((tuple(board.ravel()), col))
        else:
            col = mcts(board, color, 1500)
        
        # Update board
        board = update_board(board, color, col)
        
        # Check for win
        winner = check_for_win(board, col)
        
        # Switch player
        color = 'yellow' if color == 'red' else 'red'
        
        moves += 1
    
    # Record game result
    moves_per_game.append(moves)
    if winner[2] == 'r':
        wins += 1


# Random moves inserted for player 2
# Use tqdm for a progress bar
for i in tqdm(range(200), desc="Simulating Games", unit="game"):
    board = np.zeros((2,6,7))  # Reset board
    m = random.choice(find_legal(board))
    board = update_board(board, 'red', m)
    m = random.choice(find_legal(board))
    board = update_board(board, 'yellow', m)
    winner = 'nobody'  # Reset winner
    color = 'red'  # Red always starts
    moves = 0  # Reset move count
    
    while winner == 'nobody':
        if color == 'yellow':
            col = mcts(board, color, 300)
            # Store move only for player 2
            player_two_moves.append((tuple(board.ravel()), col))
        else:
            col = mcts(board, color, 1500)
        
        # Update board
        board = update_board(board, color, col)
        
        # Check for win
        winner = check_for_win(board, col)
        
        # Switch player
        color = 'yellow' if color == 'red' else 'red'
        
        moves += 1
    
    # Record game result
    moves_per_game.append(moves)
    if winner[2] == 'r':
        wins += 1


# Save player one moves
df = pd.DataFrame(player_two_moves, columns=["x", "y"])
df.to_csv("player_two_moves.csv", index=False)





# both good players









# alternative plotting function (looks nicer)
import numpy as np
import matplotlib.pyplot as plt

def plot_connect4(board, ax=None):
    """
    Plots a Connect 4 board using Matplotlib.
    
    Parameters:
        board (3D numpy array): A 2x6x7 matrix representing the board state.
                                Player 1 is the first 6x7 board and Player 2 is the 2nd 6x7 board.
                                0 for empty, 1 for occupied board space.
        ax (matplotlib.axes): Matplotlib Axes object to plot on (optional).
    """
    rows, cols = board[0].shape
    if ax is None:
        fig, ax = plt.subplots(figsize=(7, 6))
    
    # Plot grid
    for row in range(rows):
        for col in range(cols):
            color = "white"  # Default empty color
            if board[0,row, col] == 1:
                color = "red"  # Player 1's pieces
            elif board[1,row, col] == 1:
                color = "yellow"  # Player 2's pieces
            
            # Draw a circle for each slot
            circle = plt.Circle((col + 0.5, rows - row - 0.5), 0.4, color=color, ec="black", lw=1)
            ax.add_patch(circle)
    
    # Configure axis
    ax.set_xlim(0, cols)
    ax.set_ylim(0, rows)
    ax.set_xticks(np.arange(cols) + 0.5, labels=np.arange(1, cols + 1))
    ax.set_yticks(np.arange(rows) + 0.5, labels=np.arange(rows, 0, -1))
    ax.grid(False)
    ax.set_aspect('equal')
    ax.set_facecolor("blue")  # Board background color
    ax.tick_params(left=False, bottom=False, labelsize=12)

    plt.show()


# this is how you can play a game
winner = 'nobody'
board = np.zeros((2,6,7))
plot_connect4(board)
player = 'red'

human_player = input('Which player would you like to be? Red or yellow?')

while winner == 'nobody':
    if player == human_player:
        move = input('Pick a move (1-6) for player '+player+': ')
        move = int(move) - 1
        board = update_board(board,player,move)
        clear_output()
        plot_connect4(board)
        winner = check_for_win(board,move)
    elif player != human_player:
        col = better_mcts(board, color, 1500) 
        board = update_board(board,player,move)
        clear_output()
        plot_connect4(board)
        winner = check_for_win(board,move)
    if player == 'red':
        player = 'yellow'
    else:
        player = 'red'
    
print('The winner is '+winner)



