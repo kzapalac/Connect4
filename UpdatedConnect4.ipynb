{
 "cells": [
  {
   "cell_type": "markdown",
   "id": "5a030155-8a50-44ae-82de-392a443a9417",
   "metadata": {
    "id": "5a030155-8a50-44ae-82de-392a443a9417"
   },
   "source": [
    "# Connect 4\n",
    "\n",
    "**Questions**:\n",
    "\n",
    "Should we put more error checking in our code? We risk slowing things down with more error checking. Maybe we should only have error checking for human play.\n",
    "\n",
    "Why is MCTS not working? Is the backprop function not right? Maybe try reversing the numbers in backprop. Try playing MCTS against MCTS.\n",
    "\n",
    "---\n",
    "\n",
    "**Overview of MCTS**\n",
    "\n",
    "MCTS balances betwen exploring possible moves and exploting successful moves. It's useful for Connect 4 because there are more states than can be explored due to computational limits.\n",
    "\n",
    "Components:\n",
    "- Tree traversal and node expansion\n",
    "    - Determine the possible plays for various board states\n",
    "- Rollout\n",
    "    - Random simulation of a game that is used to determine the next best move when you reach a node (board state) that you haven't yet exploited (tried playing)\n",
    "- Backpropagation\n",
    "    - Retrace your path to the root node, updating the win rate for each node\n",
    "\n",
    "Steps:\n",
    "- Start at root node (empty board or provided board)\n",
    "- Check if the current node is a leaf node (win/lose/tie state)\n",
    "   - If a node is identified as a leaf node but it's not a win/lose/tie state, the current node may not have child nodes added yet.\n",
    "       - If the node hasn't had a simulation yet, run a simulation to determine the selection value (UCBI/UCT)\n",
    "       - If the node has already had a simulation, add each available action from the current node as a new state to the tree\n",
    "    - If a node is not identified as a leaf node, select one of the child nodes of current that maximizes the selection value (child nodes that haven't yet been explored will have higher selection values)\n",
    "\n",
    "**Upper Confidence Bound for Trees (UCT)** formula used to pick move:\n",
    "$$UCT = \\frac{W_i}{N_i} + C \\sqrt{\\frac{\\ln{N_p}}{N_i}} $$\n",
    "- $W_i$: Total wins for the child node *i*.\n",
    "- $N_i$: Total simulations for the child node *i*.\n",
    "- $N_p$: Total simulations for the parent node\n",
    "- $C$: exploitation paramter, balancing exploration and exploitation\n",
    "- Exploitation (left term) and exploration (right term) are balanced\n",
    "    - MCTS will initially favor exploration over exploitation because child nodes that haven't been explored will have infinitely large UCT values (denominator $N_i = 0$)\n",
    "- Traverse the tree by selecting the child node with the highest UCT value until a leaf node is reached.\n",
    "    - If the child nodes or other nodes along the path don't have UCT values, then they will be randomly chosen until a terminal node is reached (win/loss/tie)\n",
    "\n",
    "\n",
    "To learn more about MCTS, here are a few links that informed my notes:\n",
    "- [Visual Demonstration of MCTS on YouTube](https://www.youtube.com/watch?v=UXW2yZndl7U)\n",
    "- [Connect 4 Project Using MCTS](https://mcts.netlify.app/mcts/)\n",
    "- [Alternative Connect 4 Project using MCTS (with code)](https://www.harrycodes.com/blog/monte-carlo-tree-search)"
   ]
  },
  {
   "cell_type": "code",
   "execution_count": 1,
   "id": "2b44b57a-4e9e-4d03-9714-dfe08c625431",
   "metadata": {
    "id": "2b44b57a-4e9e-4d03-9714-dfe08c625431"
   },
   "outputs": [],
   "source": [
    "import numpy as np\n",
    "from IPython.display import clear_output\n",
    "import time\n",
    "import random\n",
    "import copy\n",
    "import pandas as pd\n",
    "from tqdm import tqdm\n",
    "# https://www.youtube.com/watch?v=UXW2yZndl7U"
   ]
  },
  {
   "cell_type": "markdown",
   "id": "6170dbb8-f002-40b4-904b-8bf75d5206ae",
   "metadata": {
    "id": "6170dbb8-f002-40b4-904b-8bf75d5206ae"
   },
   "source": [
    "# Functions for Play"
   ]
  },
  {
   "cell_type": "code",
   "execution_count": 2,
   "id": "e2d1f1b7-000c-41ae-9b74-8907f7ab433c",
   "metadata": {
    "id": "e2d1f1b7-000c-41ae-9b74-8907f7ab433c"
   },
   "outputs": [],
   "source": [
    "# Using 2x6x7 representation\n",
    "def update_board(board_temp,color,column):\n",
    "    \"\"\"\n",
    "    Update the game board by placing a checker in the specified column.\n",
    "\n",
    "    This function takes the current board status, the player's checker color,\n",
    "    and the column in which they want to place the checker, then updates the board accordingly.\n",
    "    If the column is full, the current board is returned unchanged.\n",
    "\n",
    "    Args:\n",
    "        board_temp (numpy.ndarray): A 2x6x7 representation of the game board.\n",
    "            The first layer corresponds to one player, and the second layer to the other.\n",
    "            Values are 0 (empty) or 1 (occupied).\n",
    "        color (str): The color of the checker, either 'red' or 'yellow'.\n",
    "            'red' corresponds to the first layer (index 0), and 'yellow' to the second layer (index 1).\n",
    "        column (int): The column (0 through 6) where the checker should be placed.\n",
    "            If the column is full, the board remains unchanged.\n",
    "\n",
    "    Returns:\n",
    "        numpy.ndarray: The updated board after placing the checker.\n",
    "        If the column is full, the original board is returned.\n",
    "\n",
    "    Notes:\n",
    "        - The board is copied before making modifications, ensuring the original input remains unchanged.\n",
    "        - The function assumes valid inputs, but the player is responsible for avoiding full columns.\n",
    "    \"\"\"\n",
    "    # Should we add more error checking? We risk making the function take longer with more error checking.\n",
    "    # Maybe we shoud add more error checking just for when a person is playing the game.\n",
    "\n",
    "    board = board_temp.copy()\n",
    "    ncol = board.shape[2]\n",
    "    nrow = board.shape[1]\n",
    "\n",
    "    # this seems silly, but actually faster to run than using sum because of overhead!\n",
    "    # colsum = sum(board[0, row, column] + board[1, row, column] for row in range(nrow))\n",
    "    colsum = board[0, 0,column]+board[0,1,column]+ board[0,2,column] + board[0,3,column] + board[0,4,column] + board[0,5,column] + board[1,0,column] + board[1,1,column] + board[1,2,column] + board[1,3,column] + board[1,4, column] + board[1,5, column]\n",
    "    # no need to do abs() now because both boards are filled in with either 0s or 1s (no more -1s now that we have one \"board\" per opponent)\n",
    "\n",
    "    # Check if the selected column is full (might slow down runtime, only necessary for human play)\n",
    "    # if colsum == nrow:\n",
    "    #     raise ValueError(f\"Column {column} is full. Please select a different column.\")\n",
    "\n",
    "    row = int(5-colsum) # returns index 0 - 5\n",
    "    if row > -0.5:\n",
    "      # i.e. as long as we have a slot available\n",
    "        if color == 'red':\n",
    "            board[0,row,column] = 1\n",
    "        else:\n",
    "            board[1,row,column] = 1\n",
    "    return board"
   ]
  },
  {
   "cell_type": "code",
   "execution_count": 3,
   "id": "f2bbfb8c-8c15-4904-9994-a576548ba5a7",
   "metadata": {
    "id": "f2bbfb8c-8c15-4904-9994-a576548ba5a7"
   },
   "outputs": [],
   "source": [
    "def check_for_win(board,col):\n",
    "    \"\"\"\n",
    "    Check for a winning condition in the game after a move in the specified column.\n",
    "\n",
    "    This function evaluates the board to determine if the most recent move in the specified\n",
    "    column resulted in a win. It checks for four consecutive checkers of the same color\n",
    "    in vertical, horizontal, and diagonal directions.\n",
    "\n",
    "    Args:\n",
    "        board (numpy.ndarray): A 2x6x7 representation of the game board.\n",
    "            The first layer corresponds to the 'red' player's pieces, and the second layer to 'yellow'.\n",
    "            Each layer contains 0s (empty) or 1s (occupied).\n",
    "        col (int): The column (0 through 6) where the move was made.\n",
    "\n",
    "    Returns:\n",
    "        str: A string indicating the result of the check:\n",
    "            - 'v-red': Vertical win for the 'red' player.\n",
    "            - 'v-yellow': Vertical win for the 'yellow' player.\n",
    "            - 'h-red': Horizontal win for the 'red' player.\n",
    "            - 'h-yellow': Horizontal win for the 'yellow' player.\n",
    "            - 'd-red': Diagonal win for the 'red' player (bottom-left to top-right).\n",
    "            - 'd-yellow': Diagonal win for the 'yellow' player (bottom-left to top-right).\n",
    "            - 'nobody': No winning condition is detected.\n",
    "\n",
    "    Notes:\n",
    "        - Assumes that the move in the given column was valid (i.e., the column was not full).\n",
    "        - The function checks for wins starting from the position of the most recent move.\n",
    "        - Diagonal checks include both bottom-left-to-top-right and top-left-to-bottom-right directions.\n",
    "        - THIS DOESN'T ACCOUNT FOR TIES RIGHT NOW! NEED TO FIX THIS FOR REAL PLAY!\n",
    "    \"\"\"\n",
    "    nrow = 6\n",
    "    ncol = 7\n",
    "    # take advantage of knowing what column was last played in...need to check way fewer possibilities\n",
    "    board = board[0] - board[1]\n",
    "    colsum = abs(board[0,col])+abs(board[1,col])+abs(board[2,col])+abs(board[3,col])+abs(board[4,col])+abs(board[5,col])\n",
    "    row = int(6-colsum)\n",
    "    if row+3<6:\n",
    "        vert = board[row,col] + board[row+1,col] + board[row+2,col] + board[row+3,col]\n",
    "        if vert == 4:\n",
    "            return 'v-red'\n",
    "        elif vert == -4:\n",
    "            return 'v-yellow'\n",
    "    if col+3<7:\n",
    "        hor = board[row,col] + board[row,col+1] + board[row,col+2] + board[row,col+3]\n",
    "        if hor == 4:\n",
    "            return 'h-red'\n",
    "        elif hor == -4:\n",
    "            return 'h-yellow'\n",
    "    if col-1>=0 and col+2<7:\n",
    "        hor = board[row,col-1] + board[row,col] + board[row,col+1] + board[row,col+2]\n",
    "        if hor == 4:\n",
    "            return 'h-red'\n",
    "        elif hor == -4:\n",
    "            return 'h-yellow'\n",
    "    if col-2>=0 and col+1<7:\n",
    "        hor = board[row,col-2] + board[row,col-1] + board[row,col] + board[row,col+1]\n",
    "        if hor == 4:\n",
    "            return 'h-red'\n",
    "        elif hor == -4:\n",
    "            return 'h-yellow'\n",
    "    if col-3>=0:\n",
    "        hor = board[row,col-3] + board[row,col-2] + board[row,col-1] + board[row,col]\n",
    "        if hor == 4:\n",
    "            return 'h-red'\n",
    "        elif hor == -4:\n",
    "            return 'h-yellow'\n",
    "    if row < 3 and col < 4:\n",
    "        DR = board[row,col] + board[row+1,col+1] + board[row+2,col+2] + board[row+3,col+3]\n",
    "        if DR == 4:\n",
    "            return 'd-red'\n",
    "        elif DR == -4:\n",
    "            return 'd-yellow'\n",
    "    if row-1>=0 and col-1>=0 and row+2<6 and col+2<7:\n",
    "        DR = board[row-1,col-1] + board[row,col] + board[row+1,col+1] + board[row+2,col+2]\n",
    "        if DR == 4:\n",
    "            return 'd-red'\n",
    "        elif DR == -4:\n",
    "            return 'd-yellow'\n",
    "    if row-2>=0 and col-2>=0 and row+1<6 and col+1<7:\n",
    "        DR = board[row-2,col-2] + board[row-1,col-1] + board[row,col] + board[row+1,col+1]\n",
    "        if DR == 4:\n",
    "            return 'd-red'\n",
    "        elif DR == -4:\n",
    "            return 'd-yellow'\n",
    "    if row-3>=0 and col-3>=0:\n",
    "        DR = board[row-3,col-3] + board[row-2,col-2] + board[row-1,col-1] + board[row,col]\n",
    "        if DR == 4:\n",
    "            return 'd-red'\n",
    "        elif DR == -4:\n",
    "            return 'd-yellow'\n",
    "    if row+3<6 and col-3>=0:\n",
    "        DL = board[row,col] + board[row+1,col-1] + board[row+2,col-2] + board[row+3,col-3]\n",
    "        if DL == 4:\n",
    "            return 'd-red'\n",
    "        elif DL == -4:\n",
    "            return 'd-yellow'\n",
    "    if row-1 >= 0 and col+1 < 7 and row+2<6 and col-2>=0:\n",
    "        DL = board[row-1,col+1] + board[row,col] + board[row+1,col-1] + board[row+2,col-2]\n",
    "        if DL == 4:\n",
    "            return 'd-red'\n",
    "        elif DL == -4:\n",
    "            return 'd-yellow'\n",
    "    if row-2 >=0 and col+2<7 and row+1<6 and col-1>=0:\n",
    "        DL = board[row-2,col+2] + board[row-1,col+1] + board[row,col] + board[row+1,col-1]\n",
    "        if DL == 4:\n",
    "            return 'd-red'\n",
    "        elif DL == -4:\n",
    "            return 'd-yellow'\n",
    "    if row-3>=0 and col+3<7:\n",
    "        DL = board[row-3,col+3] + board[row-2,col+2] + board[row-1,col+1] + board[row,col]\n",
    "        if DL == 4:\n",
    "            return 'd-red'\n",
    "        elif DL == -4:\n",
    "            return 'd-yellow'\n",
    "    return 'nobody'"
   ]
  },
  {
   "cell_type": "code",
   "execution_count": 4,
   "id": "ef271c1b-4e29-4e65-9ba5-6fb739b193b3",
   "metadata": {
    "id": "ef271c1b-4e29-4e65-9ba5-6fb739b193b3"
   },
   "outputs": [],
   "source": [
    "def find_legal(board):\n",
    "    board = board[0] + board[1]\n",
    "    # Identify columns that aren't full\n",
    "    legal = [i for i in range(7) if board[0,i] == 0]\n",
    "    return legal"
   ]
  },
  {
   "cell_type": "code",
   "execution_count": 5,
   "id": "3d662984-d251-4df1-9f73-f6168dfc76d4",
   "metadata": {
    "id": "3d662984-d251-4df1-9f73-f6168dfc76d4"
   },
   "outputs": [],
   "source": [
    "def look_for_win(board_,color):\n",
    "    board_ = board_.copy()\n",
    "    legal = find_legal(board_)\n",
    "    winner = -1\n",
    "    for m in legal:\n",
    "        bt = update_board(board_.copy(),color,m)\n",
    "        wi = check_for_win(bt,m)\n",
    "        if wi[2:] == color:\n",
    "          # only checking the last part of the string that check_for_win returns; e.g. 'd-yellow' becomes 'yellow'\n",
    "            winner = m\n",
    "            break\n",
    "    return winner"
   ]
  },
  {
   "cell_type": "code",
   "execution_count": 6,
   "id": "2da8b87a-8784-4854-a7fb-6c21c8681b18",
   "metadata": {
    "id": "2da8b87a-8784-4854-a7fb-6c21c8681b18"
   },
   "outputs": [],
   "source": [
    "def find_all_nonlosers(board,color):\n",
    "    if color == 'red':\n",
    "        opp = 'yellow'\n",
    "    else:\n",
    "        opp = 'red'\n",
    "    legal = find_legal(board)\n",
    "    poss_boards = [update_board(board,color,l) for l in legal]\n",
    "    poss_legal = [find_legal(b) for b in poss_boards]\n",
    "    # we do the second find_legal() to check that we aren't accidentally giving our opponent a win. just because the current team plays a legal move,\n",
    "    # still leaves the possibility that the opponent's next move will win them the game\n",
    "    allowed = []\n",
    "    for i in range(len(legal)):\n",
    "        wins = [j for j in poss_legal[i] if check_for_win(update_board(poss_boards[i],opp,j),j) != 'nobody']\n",
    "        # alternative way to check if check_for_win return any winners; add the column when check_for_win returns anything but 'nobody'\n",
    "        if len(wins) == 0:\n",
    "            allowed.append(legal[i])\n",
    "    return allowed"
   ]
  },
  {
   "cell_type": "code",
   "execution_count": 7,
   "id": "c1ad0ead-628e-4ae0-95d5-b32d7c2ed0e3",
   "metadata": {
    "id": "c1ad0ead-628e-4ae0-95d5-b32d7c2ed0e3"
   },
   "outputs": [],
   "source": [
    "# Not sure I fully understand this function. Why does the opponent get +1 if color0 wins?\n",
    "def back_prop(winner,path,color0,md):\n",
    "  # goal is count the number of times a node in the tree is visited (md[board_temp][0]) as well as keep track of the \"reward\"\n",
    "  # for the initiating player at each node\n",
    "\n",
    "    for i in range(len(path)):\n",
    "        board_temp = path[i]\n",
    "\n",
    "        md[board_temp][0]+=1\n",
    "        # md is a dictionary\n",
    "\n",
    "        if winner[2]==color0[0]:\n",
    "          # in this scenario, the initiating player (color0) won the game\n",
    "            if i % 2 == 1: # opponent's move\n",
    "            # if an opponent's move led to color0 winning, that increases color0's reward at that node\n",
    "                md[board_temp][1] += 1\n",
    "\n",
    "            else:\n",
    "                md[board_temp][1] -= 1\n",
    "            # decrease the reward to reflect a missed opportunity; color0 did not win on its turn. it won down the road, but this helps us find the true\n",
    "            # optimal strategy rather than strategies that will ~eventually~ lead to a win\n",
    "\n",
    "        elif winner[2]=='e': # tie\n",
    "            # md[board_temp][1] += 0\n",
    "            pass\n",
    "        else:\n",
    "            if i % 2 == 1: # opponent's move\n",
    "                md[board_temp][1] -= 1\n",
    "            else:\n",
    "                md[board_temp][1] += 1\n",
    "                # i'm not sure why this last line is like this... isn't this rewarding the initiating player for the opponent winning after their move?"
   ]
  },
  {
   "cell_type": "code",
   "execution_count": 8,
   "id": "78880f66-bf38-4619-b574-daca88e27707",
   "metadata": {
    "id": "78880f66-bf38-4619-b574-daca88e27707"
   },
   "outputs": [],
   "source": [
    "def rollout(board,next_player):\n",
    "    winner = 'nobody'\n",
    "    player = next_player\n",
    "    while winner == 'nobody':\n",
    "        legal = find_legal(board)\n",
    "        if len(legal) == 0:\n",
    "            winner = 'tie'\n",
    "            return winner\n",
    "        move = random.choice(legal)\n",
    "        board = update_board(board,player,move)\n",
    "        winner = check_for_win(board,move)\n",
    "\n",
    "        if player == 'red':\n",
    "            player = 'yellow'\n",
    "        else:\n",
    "            player = 'red'\n",
    "    return winner"
   ]
  },
  {
   "cell_type": "code",
   "execution_count": 9,
   "id": "3f70147e-bc61-416d-bb85-ca91244ec267",
   "metadata": {
    "id": "3f70147e-bc61-416d-bb85-ca91244ec267"
   },
   "outputs": [],
   "source": [
    "def better_rollout(board, next_player):\n",
    "    \"\"\"\n",
    "    Will look for a winning move first. If that doesn't exist, will play a move that doesn't lead to opponent immediately winning.\n",
    "    If that doesn't exist, will play a random legal move.\n",
    "    \"\"\"\n",
    "    winner = 'nobody'\n",
    "    player = next_player\n",
    "    while winner == 'nobody':\n",
    "\n",
    "        legal = find_legal(board)\n",
    "        if len(legal) == 0:\n",
    "            winner = 'tie'\n",
    "            return winner\n",
    "        winColumn = look_for_win(board,player) # check to find a winning column\n",
    "        if winColumn > -0.5:\n",
    "            move = winColumn # if there is one - play that!\n",
    "        else:\n",
    "            legal = find_all_nonlosers(board,player) # find all moves that won't immediately lead to your opponent winning\n",
    "            if len(legal) == 0: # if you can't block your opponent - just find the 'best' losing move\n",
    "                legal = find_legal(board)\n",
    "            move = random.choice(legal)\n",
    "        board = update_board(board,player,move)\n",
    "        winner = check_for_win(board,move)\n",
    "\n",
    "        if player == 'red':\n",
    "            player = 'yellow'\n",
    "        else:\n",
    "            player = 'red'\n",
    "    return winner"
   ]
  },
  {
   "cell_type": "code",
   "execution_count": 10,
   "id": "bb72066b-5a2e-43c3-ba00-01d057ccc0e3",
   "metadata": {
    "id": "bb72066b-5a2e-43c3-ba00-01d057ccc0e3"
   },
   "outputs": [],
   "source": [
    "def mcts(board_temp,color0,nsteps):\n",
    "    # nsteps is a parameter that determines the skill (and slowness) of the player\n",
    "    # bigger values of nsteps means the player is better, but also slower to figure out a move.\n",
    "    board = board_temp.copy()\n",
    "    ##############################################\n",
    "    winColumn = look_for_win(board,color0) # check to find a winning column\n",
    "    if winColumn > -0.5:\n",
    "        return winColumn # if there is one - play that!\n",
    "    legal0 = find_all_nonlosers(board,color0) # find all moves that won't immediately lead to your opponent winning\n",
    "    if len(legal0) == 0: # if you can't block your opponent - just find the 'best' losing move\n",
    "        legal0 = find_legal(board)\n",
    "    ##############################################\n",
    "    # the code above, in between the hash rows, is not part of traditional MCTS\n",
    "    # but it makes it better and faster - so I included it!\n",
    "    # MCTS occasionally makes stupid mistakes\n",
    "    # like not dropping the checker on a winning column, or not blocking an obvious opponent win\n",
    "    # this avoids a little bit of that stupidity!\n",
    "    # we could also add this logic to the rest of the MCTS and rollout functions - I just haven't done that yet...\n",
    "    # feel free to experiment!\n",
    "    mcts_dict = {tuple(board.ravel()):[0,0]}\n",
    "    for ijk in range(nsteps):\n",
    "        color = color0\n",
    "        winner = 'nobody'\n",
    "        board_mcts = board.copy()\n",
    "        path = [tuple(board_mcts.ravel())]\n",
    "        # plya until someone wins or there is a tie\n",
    "        while winner == 'nobody':\n",
    "            legal = find_legal(board_mcts)\n",
    "            if len(legal) == 0:\n",
    "                winner = 'tie'\n",
    "                back_prop(winner,path,color0,mcts_dict)\n",
    "                break\n",
    "            board_list = []\n",
    "            for col in legal:\n",
    "                board_list.append(tuple(update_board(board_mcts,color,col).ravel()))\n",
    "            for bl in board_list:\n",
    "                if bl not in mcts_dict.keys():\n",
    "                    mcts_dict[bl] = [0,0]\n",
    "            ucb1 = np.zeros(len(legal))\n",
    "            for i in range(len(legal)):\n",
    "                num_denom = mcts_dict[board_list[i]]\n",
    "                if num_denom[0] == 0:\n",
    "                    ucb1[i] = 10*nsteps\n",
    "                else:\n",
    "                    ucb1[i] = num_denom[1]/num_denom[0] + 2*np.sqrt(np.log(mcts_dict[path[-1]][0])/mcts_dict[board_list[i]][0])\n",
    "            chosen = np.argmax(ucb1)\n",
    "\n",
    "            board_mcts = update_board(board_mcts,color,legal[chosen])\n",
    "            path.append(tuple(board_mcts.ravel()))\n",
    "            winner = check_for_win(board_mcts,legal[chosen])\n",
    "            if winner[2]==color[0]:\n",
    "                back_prop(winner,path,color0,mcts_dict)\n",
    "                break\n",
    "            if color == 'red':\n",
    "                color = 'yellow'\n",
    "            else:\n",
    "                color = 'red'\n",
    "            if mcts_dict[tuple(board_mcts.ravel())][0] == 0:\n",
    "                winner = rollout(board_mcts,color)\n",
    "                back_prop(winner,path,color0,mcts_dict)\n",
    "                break\n",
    "\n",
    "    maxval = -np.inf\n",
    "    best_col = -1\n",
    "    for col in legal0:\n",
    "        board_temp = tuple(update_board(board,color0,col).ravel())\n",
    "        num_denom = mcts_dict[board_temp]\n",
    "        if num_denom[0] == 0:\n",
    "            compare = -np.inf\n",
    "        else:\n",
    "            compare = num_denom[1] / num_denom[0]\n",
    "        if compare > maxval:\n",
    "            maxval = compare\n",
    "            best_col = col\n",
    "    return (best_col)"
   ]
  },
  {
   "cell_type": "code",
   "execution_count": 11,
   "id": "f5109800-1169-4f3a-a8e5-181fea26e1aa",
   "metadata": {
    "id": "f5109800-1169-4f3a-a8e5-181fea26e1aa"
   },
   "outputs": [],
   "source": [
    "def better_mcts(board_temp,color0,nsteps):\n",
    "    \"\"\"\n",
    "    This version of MCTS uses the better rollout function that guarantees each player will play a winning move or block\n",
    "    before choosing a random move.\n",
    "    \"\"\"\n",
    "    # nsteps is a parameter that determines the skill (and slowness) of the player\n",
    "    # bigger values of nsteps means the player is better, but also slower to figure out a move.\n",
    "    board = board_temp.copy()\n",
    "    ##############################################\n",
    "    winColumn = look_for_win(board,color0) # check to find a winning column\n",
    "    if winColumn > -0.5:\n",
    "        return winColumn # if there is one - play that!\n",
    "    legal0 = find_all_nonlosers(board,color0) # find all moves that won't immediately lead to your opponent winning\n",
    "    if len(legal0) == 0: # if you can't block your opponent - just find the 'best' losing move\n",
    "        legal0 = find_legal(board)\n",
    "    ##############################################\n",
    "    # the code above, in between the hash rows, is not part of traditional MCTS\n",
    "    # but it makes it better and faster - so I included it!\n",
    "    # MCTS occasionally makes stupid mistakes\n",
    "    # like not dropping the checker on a winning column, or not blocking an obvious opponent win\n",
    "    # this avoids a little bit of that stupidity!\n",
    "    # we could also add this logic to the rest of the MCTS and rollout functions - I just haven't done that yet...\n",
    "    # feel free to experiment!\n",
    "    mcts_dict = {tuple(board.ravel()):[0,0]}\n",
    "    for ijk in range(nsteps):\n",
    "        color = color0\n",
    "        winner = 'nobody'\n",
    "        board_mcts = board.copy()\n",
    "        path = [tuple(board_mcts.ravel())]\n",
    "        # plya until someone wins or there is a tie\n",
    "        while winner == 'nobody':\n",
    "            legal = find_legal(board_mcts)\n",
    "            if len(legal) == 0:\n",
    "                winner = 'tie'\n",
    "                back_prop(winner,path,color0,mcts_dict)\n",
    "                break\n",
    "            board_list = []\n",
    "            for col in legal:\n",
    "                board_list.append(tuple(update_board(board_mcts,color,col).ravel()))\n",
    "            for bl in board_list:\n",
    "                if bl not in mcts_dict.keys():\n",
    "                    mcts_dict[bl] = [0,0]\n",
    "            ucb1 = np.zeros(len(legal))\n",
    "            for i in range(len(legal)):\n",
    "                num_denom = mcts_dict[board_list[i]]\n",
    "                if num_denom[0] == 0:\n",
    "                    ucb1[i] = 10*nsteps\n",
    "                else:\n",
    "                    ucb1[i] = num_denom[1]/num_denom[0] + 2*np.sqrt(np.log(mcts_dict[path[-1]][0])/mcts_dict[board_list[i]][0])\n",
    "            chosen = np.argmax(ucb1)\n",
    "\n",
    "            board_mcts = update_board(board_mcts,color,legal[chosen])\n",
    "            path.append(tuple(board_mcts.ravel()))\n",
    "            winner = check_for_win(board_mcts,legal[chosen])\n",
    "            if winner[2]==color[0]:\n",
    "                back_prop(winner,path,color0,mcts_dict)\n",
    "                break\n",
    "            if color == 'red':\n",
    "                color = 'yellow'\n",
    "            else:\n",
    "                color = 'red'\n",
    "            if mcts_dict[tuple(board_mcts.ravel())][0] == 0:\n",
    "                winner = better_rollout(board_mcts,color)\n",
    "                back_prop(winner,path,color0,mcts_dict)\n",
    "                break\n",
    "\n",
    "    maxval = -np.inf\n",
    "    best_col = -1\n",
    "    for col in legal0:\n",
    "        board_temp = tuple(update_board(board,color0,col).ravel())\n",
    "        num_denom = mcts_dict[board_temp]\n",
    "        if num_denom[0] == 0:\n",
    "            compare = -np.inf\n",
    "        else:\n",
    "            compare = num_denom[1] / num_denom[0]\n",
    "        if compare > maxval:\n",
    "            maxval = compare\n",
    "            best_col = col\n",
    "    return (best_col)"
   ]
  },
  {
   "cell_type": "markdown",
   "id": "578f47a8-cd42-466e-a835-66c0e3ad8364",
   "metadata": {
    "id": "578f47a8-cd42-466e-a835-66c0e3ad8364"
   },
   "source": [
    "# Building Datasets\n",
    "Should we use MCTS with varying levels of skill?\n",
    "\n",
    "Should we use MCTS with the updated rollout function?\n",
    "\n",
    "Shoudl we only record the moves of the better player?\n",
    "\n",
    "Should we create 2 datsets: one for player 1 moves and another for player 2 moves?\n",
    "\n",
    "Potential classifications for MCTS:\n",
    "- Beginner: 100-500 steps\n",
    "- Intermediate: 500-2000 steps\n",
    "- Expert: 2000-1000+\n",
    "\n",
    "To see how long it would take to play a game against each player type, you can set the range to 1 below."
   ]
  },
  {
   "cell_type": "markdown",
   "id": "74b5ec62-3db3-43e9-8f2c-d42390c18055",
   "metadata": {
    "id": "74b5ec62-3db3-43e9-8f2c-d42390c18055"
   },
   "source": [
    "**Weak vs. strong player**"
   ]
  },
  {
   "cell_type": "code",
   "execution_count": 12,
   "id": "ca1b0d4f-cc15-40c8-8c15-fccd757c05f5",
   "metadata": {
    "colab": {
     "base_uri": "https://localhost:8080/"
    },
    "id": "ca1b0d4f-cc15-40c8-8c15-fccd757c05f5",
    "outputId": "2011957b-2f48-4356-b2b7-ba91ab410f99"
   },
   "outputs": [],
   "source": [
    "# player_one_moves = []\n",
    "# wins = 0  # Record the number of wins for 'red'\n",
    "# moves_per_game = []  # Record the number of moves per game\n",
    "# game = 0\n",
    "# # Use tqdm for a progress bar\n",
    "# for i in tqdm(range(100), desc=\"Simulating Games\", unit=\"game\"):\n",
    "#     board = np.zeros((2,6,7))  # Reset board\n",
    "#     winner = 'nobody'  # Reset winner\n",
    "#     color = 'red'  # Red always starts\n",
    "#     moves = 0  # Reset move count\n",
    "#     while winner == 'nobody':\n",
    "#         legal = find_legal(board)\n",
    "#         if len(legal) == 0:\n",
    "#             winner = 'tie'\n",
    "#             break\n",
    "\n",
    "#         if color == 'yellow':\n",
    "#             col = mcts(board, color, 300)\n",
    "#         else:\n",
    "#             col = mcts(board, color, 1500)\n",
    "#             # Store move only for player 1\n",
    "#             player_one_moves.append((tuple(board.ravel()), col, 300, 1500, game, 'n'))\n",
    "\n",
    "#         # Update board\n",
    "#         board = update_board(board, color, col)\n",
    "\n",
    "#         # Check for win\n",
    "#         winner = check_for_win(board, col)\n",
    "\n",
    "#         # Switch player\n",
    "#         color = 'yellow' if color == 'red' else 'red'\n",
    "\n",
    "#         moves += 1\n",
    "\n",
    "#     # Record game result\n",
    "#     moves_per_game.append(moves)\n",
    "#     if winner[2] == 'r':\n",
    "#         wins += 1\n",
    "#     game += 1"
   ]
  },
  {
   "cell_type": "code",
   "execution_count": 13,
   "id": "0988be54-6052-4601-9050-bd7e27f6eb48",
   "metadata": {
    "colab": {
     "base_uri": "https://localhost:8080/",
     "height": 326
    },
    "id": "0988be54-6052-4601-9050-bd7e27f6eb48",
    "outputId": "819b09bf-8478-4060-aed2-7743d5b1d0cb"
   },
   "outputs": [],
   "source": [
    "# # random moves inserted to diversify dataset\n",
    "# game = 0\n",
    "# for i in tqdm(range(100), desc=\"Simulating Games\", unit=\"game\"):\n",
    "#     board = np.zeros((2,6,7))  # Reset board\n",
    "#     m = random.choice(find_legal(board))\n",
    "#     board = update_board(board, 'red', m)\n",
    "#     m = random.choice(find_legal(board))\n",
    "#     board = update_board(board, 'yellow', m)\n",
    "#     winner = 'nobody'  # Reset winner\n",
    "#     color = 'red'  # Red always starts\n",
    "#     moves = 2  # Reset move count\n",
    "\n",
    "#     while winner == 'nobody':\n",
    "#         legal = find_legal(board)\n",
    "#         if len(legal) == 0:\n",
    "#             winner = 'tie'\n",
    "#             break\n",
    "\n",
    "#         if color == 'yellow':\n",
    "#             col = mcts(board, color, 300)\n",
    "#         else:\n",
    "#             col = mcts(board, color, 1500)\n",
    "#             # Store move only for player 1\n",
    "#             player_one_moves.append((tuple(board.ravel()), col, 300, 1500, game, 'y'))\n",
    "\n",
    "#         # Update board\n",
    "#         board = update_board(board, color, col)\n",
    "\n",
    "#         # Check for win\n",
    "#         winner = check_for_win(board, col)\n",
    "\n",
    "#         # Switch player\n",
    "#         color = 'yellow' if color == 'red' else 'red'\n",
    "\n",
    "#         moves += 1\n",
    "\n",
    "#     # Record game result\n",
    "#     moves_per_game.append(moves)\n",
    "#     if winner[2] == 'r':\n",
    "#         wins += 1\n",
    "#     game += 1\n",
    "# print(wins)\n",
    "# print(moves_per_game)"
   ]
  },
  {
   "cell_type": "code",
   "execution_count": 14,
   "id": "edf4b6a3-af65-4e46-8a0f-d17d93701e69",
   "metadata": {
    "id": "edf4b6a3-af65-4e46-8a0f-d17d93701e69"
   },
   "outputs": [],
   "source": [
    "# # Save player one moves\n",
    "# df = pd.DataFrame(player_one_moves, columns=[\"x\", \"y\", \"opponent_level\", \"player_level\", \"game\", \"random_moves\"])\n",
    "# df.to_csv(\"player_one_moves.csv\", index=False)"
   ]
  },
  {
   "cell_type": "code",
   "execution_count": 15,
   "id": "48b44e8d-88e4-4888-bd00-ba3f8b905c48",
   "metadata": {
    "id": "48b44e8d-88e4-4888-bd00-ba3f8b905c48"
   },
   "outputs": [],
   "source": [
    "# player_two_moves = []\n",
    "# wins = 0  # Record the number of wins for 'red'\n",
    "# moves_per_game = []  # Record the number of moves per game\n",
    "# game = 0\n",
    "# # Use tqdm for a progress bar\n",
    "# for i in tqdm(range(100), desc=\"Simulating Games\", unit=\"game\"):\n",
    "#     board = np.zeros((2,6,7))  # Reset board\n",
    "#     winner = 'nobody'  # Reset winner\n",
    "#     color = 'red'  # Red always starts\n",
    "#     moves = 0  # Reset move count\n",
    "\n",
    "#     while winner == 'nobody':\n",
    "#         legal = find_legal(board)\n",
    "#         if len(legal) == 0:\n",
    "#             winner = 'tie'\n",
    "#             break\n",
    "\n",
    "#         if color == 'yellow':\n",
    "#             col = mcts(board, color, 300)\n",
    "#             # Store move only for player 2\n",
    "#             player_two_moves.append((tuple(board.ravel()), col, 1500, 300, game, 'n'))\n",
    "#         else:\n",
    "#             col = mcts(board, color, 1500)\n",
    "\n",
    "#         # Update board\n",
    "#         board = update_board(board, color, col)\n",
    "\n",
    "#         # Check for win\n",
    "#         winner = check_for_win(board, col)\n",
    "\n",
    "#         # Switch player\n",
    "#         color = 'yellow' if color == 'red' else 'red'\n",
    "\n",
    "#         moves += 1\n",
    "\n",
    "#     # Record game result\n",
    "#     moves_per_game.append(moves)\n",
    "#     if winner[2] == 'r':\n",
    "#         wins += 1\n",
    "#     game += 1"
   ]
  },
  {
   "cell_type": "code",
   "execution_count": 16,
   "id": "c7655ed0-b18e-4cf4-8a74-37002ce0082c",
   "metadata": {
    "id": "c7655ed0-b18e-4cf4-8a74-37002ce0082c"
   },
   "outputs": [],
   "source": [
    "# # Random moves inserted for player 2\n",
    "# # Use tqdm for a progress bar\n",
    "# for i in tqdm(range(100), desc=\"Simulating Games\", unit=\"game\"):\n",
    "#     board = np.zeros((2,6,7))  # Reset board\n",
    "#     m = random.choice(find_legal(board))\n",
    "#     board = update_board(board, 'red', m)\n",
    "#     m = random.choice(find_legal(board))\n",
    "#     board = update_board(board, 'yellow', m)\n",
    "#     winner = 'nobody'  # Reset winner\n",
    "#     color = 'red'  # Red always starts\n",
    "#     moves = 0  # Reset move count\n",
    "\n",
    "#     while winner == 'nobody':\n",
    "#         legal = find_legal(board)\n",
    "#         if len(legal) == 0:\n",
    "#             winner = 'tie'\n",
    "#             break\n",
    "\n",
    "#         if color == 'yellow':\n",
    "#             col = mcts(board, color, 300)\n",
    "#             # Store move only for player 2\n",
    "#             player_two_moves.append((tuple(board.ravel()), col, 1500, 300, game, 'y'))\n",
    "#         else:\n",
    "#             col = mcts(board, color, 1500)\n",
    "\n",
    "#         # Update board\n",
    "#         board = update_board(board, color, col)\n",
    "\n",
    "#         # Check for win\n",
    "#         winner = check_for_win(board, col)\n",
    "\n",
    "#         # Switch player\n",
    "#         color = 'yellow' if color == 'red' else 'red'\n",
    "\n",
    "#         moves += 1\n",
    "\n",
    "#     # Record game result\n",
    "#     moves_per_game.append(moves)\n",
    "#     if winner[2] == 'r':\n",
    "#         wins += 1\n",
    "# print(wins)\n",
    "# print(moves_per_game)"
   ]
  },
  {
   "cell_type": "code",
   "execution_count": 17,
   "id": "89f6dbb7-e89d-47ae-a263-ca4c0c42060b",
   "metadata": {
    "id": "89f6dbb7-e89d-47ae-a263-ca4c0c42060b"
   },
   "outputs": [],
   "source": [
    "# # Save player two moves\n",
    "# df = pd.DataFrame(player_two_moves, columns=[\"x\", \"y\", \"opponent_level\", \"player_level\", \"game\", \"random_moves\"])\n",
    "# df.to_csv(\"player_two_moves.csv\", index=False)"
   ]
  },
  {
   "cell_type": "markdown",
   "id": "94649e2d-58a4-4aa8-9d21-462f532b2502",
   "metadata": {
    "id": "94649e2d-58a4-4aa8-9d21-462f532b2502"
   },
   "source": [
    "**Both Strong Players**"
   ]
  },
  {
   "cell_type": "code",
   "execution_count": 18,
   "id": "7e22d85e-89b8-4806-ac97-88be3e91523b",
   "metadata": {},
   "outputs": [],
   "source": [
    "# # store moves for both players\n",
    "# sim_games = []\n",
    "# who_won = []  # Record the winner for each game\n",
    "# moves_per_game = []  # Record the number of moves per game\n",
    "# game = 0\n",
    "# # Use tqdm for a progress bar\n",
    "# for i in tqdm(range(1000), desc=\"Simulating Games\", unit=\"game\"):\n",
    "#     board = np.zeros((2,6,7))  # Reset board\n",
    "#     winner = 'nobody'  # Reset winner\n",
    "#     color = 'red'  # Red always starts\n",
    "#     moves = 0  # Reset move count\n",
    "#     while winner == 'nobody':\n",
    "#         legal = find_legal(board)\n",
    "#         if len(legal) == 0:\n",
    "#             winner = 'tie'\n",
    "#             break\n",
    "\n",
    "#         if color == 'yellow':\n",
    "#             col = mcts(board, color, 300)\n",
    "#             sim_games.append((tuple(board.ravel()), col, 'yellow', 300, 300, game, 'n'))\n",
    "#         else:\n",
    "#             col = mcts(board, color, 300)\n",
    "#             sim_games.append((tuple(board.ravel()), col, 'red', 300, 300, game, 'n'))\n",
    "\n",
    "#         # Update board\n",
    "#         board = update_board(board, color, col)\n",
    "\n",
    "#         # Check for win\n",
    "#         winner = check_for_win(board, col)\n",
    "\n",
    "#         # Switch player\n",
    "#         color = 'yellow' if color == 'red' else 'red'\n",
    "\n",
    "#         moves += 1\n",
    "\n",
    "#     # Record game result\n",
    "#     moves_per_game.append(moves)\n",
    "#     if winner[2] == 'r':\n",
    "#         who_won.extend(moves * 'red')\n",
    "#     else:\n",
    "#         who_won.extend(moves * ['yellow'])\n",
    "#     game += 1"
   ]
  },
  {
   "cell_type": "code",
   "execution_count": 19,
   "id": "b55cadd5-0cfe-46ce-ad48-f985b2eaa66d",
   "metadata": {},
   "outputs": [],
   "source": [
    "# # store moves for both players\n",
    "# # A couple random starting moves\n",
    "# # Use tqdm for a progress bar\n",
    "# for i in tqdm(range(1000), desc=\"Simulating Games\", unit=\"game\"):\n",
    "#     board = np.zeros((2,6,7))  # Reset board\n",
    "#     m = random.choice(find_legal(board))\n",
    "#     board = update_board(board, 'red', m)\n",
    "#     m = random.choice(find_legal(board))\n",
    "#     board = update_board(board, 'yellow', m)\n",
    "#     winner = 'nobody'  # Reset winner\n",
    "#     color = 'red'  # Red always starts\n",
    "#     moves = 0  # Reset move count\n",
    "#     while winner == 'nobody':\n",
    "#         legal = find_legal(board)\n",
    "#         if len(legal) == 0:\n",
    "#             winner = 'tie'\n",
    "#             break\n",
    "\n",
    "#         if color == 'yellow':\n",
    "#             col = mcts(board, color, 300)\n",
    "#             sim_games.append((tuple(board.ravel()), col, 'yellow', 300, 300, game, 'y'))\n",
    "        \n",
    "#         else:\n",
    "#             col = mcts(board, color, 300)\n",
    "#             sim_games.append((tuple(board.ravel()), col, 'red', 300, 300, game, 'y'))\n",
    "\n",
    "#         # Update board\n",
    "#         board = update_board(board, color, col)\n",
    "\n",
    "#         # Check for win\n",
    "#         winner = check_for_win(board, col)\n",
    "\n",
    "#         # Switch player\n",
    "#         color = 'yellow' if color == 'red' else 'red'\n",
    "\n",
    "#     # Record game result\n",
    "#     moves_per_game.append(moves)\n",
    "#     if winner[2] == 'r':\n",
    "#         who_won.extend(moves * 'red')\n",
    "#     else:\n",
    "#         who_won.extend(moves * ['yellow'])\n",
    "#     game += 1"
   ]
  },
  {
   "cell_type": "code",
   "execution_count": 20,
   "id": "f14ac49d-0840-4001-8382-76af5f982701",
   "metadata": {
    "id": "f14ac49d-0840-4001-8382-76af5f982701"
   },
   "outputs": [],
   "source": [
    "# # Save simulated games\n",
    "# df = pd.DataFrame(sim_games, columns=[\"x\", \"y\", \"whose_turn\", \"opponent_level\", \"player_level\", \"game\", \"random_moves\"])\n",
    "# # df['winner'] = who_won\n",
    "# df.to_csv(\"large_board_dataset.csv\", index=False)"
   ]
  },
  {
   "cell_type": "code",
   "execution_count": 57,
   "id": "206aecd7-ffc1-46aa-9636-75be44923cbb",
   "metadata": {
    "collapsed": true,
    "jupyter": {
     "outputs_hidden": true,
     "source_hidden": true
    }
   },
   "outputs": [
    {
     "data": {
      "text/plain": [
       "59685"
      ]
     },
     "execution_count": 57,
     "metadata": {},
     "output_type": "execute_result"
    }
   ],
   "source": [
    "len(df)"
   ]
  },
  {
   "cell_type": "code",
   "execution_count": 56,
   "id": "67c85a2e-73fa-4cde-adc4-348f9eb57d74",
   "metadata": {
    "collapsed": true,
    "jupyter": {
     "outputs_hidden": true,
     "source_hidden": true
    }
   },
   "outputs": [
    {
     "data": {
      "text/plain": [
       "49098"
      ]
     },
     "execution_count": 56,
     "metadata": {},
     "output_type": "execute_result"
    }
   ],
   "source": [
    "# number of unique games\n",
    "df['x'].nunique()"
   ]
  },
  {
   "cell_type": "code",
   "execution_count": 39,
   "id": "9adfbd6f-5d0c-4e4f-b918-c94cf0bd213d",
   "metadata": {
    "collapsed": true,
    "jupyter": {
     "outputs_hidden": true,
     "source_hidden": true
    }
   },
   "outputs": [
    {
     "data": {
      "text/plain": [
       "array([[[1., 0., 1., 0., 1., 1., 0.],\n",
       "        [0., 0., 0., 1., 0., 0., 0.],\n",
       "        [1., 0., 1., 0., 0., 0., 0.],\n",
       "        [0., 0., 0., 1., 1., 1., 0.],\n",
       "        [1., 1., 1., 1., 0., 0., 0.],\n",
       "        [0., 0., 0., 1., 0., 1., 1.]],\n",
       "\n",
       "       [[0., 0., 0., 1., 0., 0., 0.],\n",
       "        [1., 0., 1., 0., 1., 1., 0.],\n",
       "        [0., 0., 0., 1., 1., 1., 0.],\n",
       "        [1., 0., 1., 0., 0., 0., 0.],\n",
       "        [0., 0., 0., 0., 1., 1., 0.],\n",
       "        [1., 1., 1., 0., 1., 0., 0.]]])"
      ]
     },
     "execution_count": 39,
     "metadata": {},
     "output_type": "execute_result"
    }
   ],
   "source": [
    "# could go through and check for win or tie and record name\n",
    "test_board = df.groupby('game').tail(1).iloc[0,0]\n",
    "test_board = np.array(test_board).reshape((2,6,7))\n",
    "move = df.groupby('game').tail(1).iloc[0,1]\n",
    "color = df.groupby('game').tail(1).iloc[0,2]\n",
    "check_for_win(test_board, move)\n",
    "test_board = update_board(test_board, color, move)\n",
    "check_for_win(test_board, move)\n",
    "test_board"
   ]
  },
  {
   "cell_type": "code",
   "execution_count": 28,
   "id": "092b4311-38f5-48c5-b8e3-2d9b0366ebba",
   "metadata": {
    "collapsed": true,
    "jupyter": {
     "outputs_hidden": true,
     "source_hidden": true
    }
   },
   "outputs": [
    {
     "data": {
      "text/plain": [
       "<Axes: ylabel='Frequency'>"
      ]
     },
     "execution_count": 28,
     "metadata": {},
     "output_type": "execute_result"
    },
    {
     "data": {
      "image/png": "[encoded data removed]",
      "text/plain": [
       "<Figure size 640x480 with 1 Axes>"
      ]
     },
     "metadata": {},
     "output_type": "display_data"
    }
   ],
   "source": [
    "# length of games normally\n",
    "df['game'].value_counts().plot(kind='hist')"
   ]
  },
  {
   "cell_type": "markdown",
   "id": "ef2a3e53-cf58-4106-b3f5-123bcce3ee3f",
   "metadata": {},
   "source": [
    "### More simulated games"
   ]
  },
  {
   "cell_type": "code",
   "execution_count": 21,
   "id": "f8777c09-0b94-4766-9531-51bef8f8eac3",
   "metadata": {},
   "outputs": [
    {
     "name": "stderr",
     "output_type": "stream",
     "text": [
      "Simulating Games: 100%|█████████████████| 3000/3000 [8:41:20<00:00, 10.43s/game]\n"
     ]
    }
   ],
   "source": [
    "# Store moves for both players\n",
    "# A random # of random starting moves (not stored)\n",
    "sim_games = []\n",
    "who_won = []\n",
    "moves_per_game = []  # Record the number of moves per game\n",
    "game = 0\n",
    "# Use tqdm for a progress bar\n",
    "for i in tqdm(range(3000), desc=\"Simulating Games\", unit=\"game\"):\n",
    "    board = np.zeros((2,6,7))  # Reset board\n",
    "    winner = 'nobody'  # Reset winner\n",
    "    color = 'red' # Red always plays first\n",
    "    # choose a number of random moves to play from 0-15\n",
    "    n_random = random.choice(np.arange(0,16))\n",
    "    for i in range(n_random):\n",
    "        m = random.choice(find_legal(board))\n",
    "        if i % 2:\n",
    "            color = 'red'\n",
    "            board = update_board(board, color, m)\n",
    "        else:\n",
    "            color = 'yellow'\n",
    "            board = update_board(board, color, m)\n",
    "    \n",
    "    # Switch color after playing random moves\n",
    "    if color == 'red':\n",
    "        color = 'yellow'\n",
    "    else:\n",
    "        color = 'red'\n",
    "    \n",
    "    moves = 0  # Reset move count\n",
    "    while winner == 'nobody':\n",
    "        legal = find_legal(board)\n",
    "        if len(legal) == 0:\n",
    "            winner = 'tie'\n",
    "            break\n",
    "\n",
    "        if color == 'yellow':\n",
    "            col = mcts(board, color, 1500)\n",
    "            sim_games.append((tuple(board.ravel()), col, 'yellow', 1500, 1500, game, n_random))\n",
    "        \n",
    "        else:\n",
    "            col = mcts(board, color, 1500)\n",
    "            sim_games.append((tuple(board.ravel()), col, 'red', 1500, 1500, game, n_random))\n",
    "\n",
    "        # Update board\n",
    "        board = update_board(board, color, col)\n",
    "\n",
    "        # Check for win\n",
    "        winner = check_for_win(board, col)\n",
    "\n",
    "        # Switch player\n",
    "        color = 'yellow' if color == 'red' else 'red'\n",
    "\n",
    "    # Record game result\n",
    "    moves_per_game.append(moves)\n",
    "    who_won.append(winner)\n",
    "    game += 1"
   ]
  },
  {
   "cell_type": "code",
   "execution_count": 22,
   "id": "d47b82c0-4a12-4ef9-9cdd-888ba8172425",
   "metadata": {},
   "outputs": [],
   "source": [
    "# Save simulated games\n",
    "df = pd.DataFrame(sim_games, columns=[\"x\", \"y\", \"whose_turn\", \"opponent_level\", \"player_level\", \"game\", \"random_moves\"])\n",
    "# df['winner'] = who_won\n",
    "df.to_csv(\"data/large_board_dataset3.csv\", index=False)"
   ]
  },
  {
   "cell_type": "code",
   "execution_count": 23,
   "id": "c3c093e6-ae04-4b9c-bdb8-d31fe543dfef",
   "metadata": {},
   "outputs": [],
   "source": [
    "game_info = pd.DataFrame({'moves_per_game':moves_per_game, 'who_won':who_won})\n",
    "game_info.to_csv('data/large_board_dataset3_game_info2.csv', index=False)"
   ]
  },
  {
   "cell_type": "code",
   "execution_count": 24,
   "id": "d3b636bc-2062-4abe-8234-09e55f388a19",
   "metadata": {},
   "outputs": [
    {
     "data": {
      "text/plain": [
       "196036"
      ]
     },
     "execution_count": 24,
     "metadata": {},
     "output_type": "execute_result"
    }
   ],
   "source": [
    "# currently have 130,910 rows\n",
    "import pandas as pd\n",
    "df = pd.read_csv('data/large_board_dataset.csv')\n",
    "df2 = pd.read_csv('data/large_board_dataset2.csv')\n",
    "df3 = pd.read_csv('data/player_one_moves.csv')\n",
    "df4 = pd.read_csv('data/player_two_moves.csv')\n",
    "df5 = pd.read_csv('data/large_board_dataset3.csv')\n",
    "len(df) + len(df2) + len(df3) + len(df4) + len(df5)"
   ]
  },
  {
   "cell_type": "markdown",
   "id": "54052ba0-6f10-486e-aea5-eb15c09abd0c",
   "metadata": {
    "id": "54052ba0-6f10-486e-aea5-eb15c09abd0c"
   },
   "source": [
    "# Playing\n",
    "I'll have MCTS play a person so that we can try displaying this on Anvil while we work on other code."
   ]
  },
  {
   "cell_type": "code",
   "execution_count": 18,
   "id": "2d1faa9e-6702-4923-8509-ba1d1c859f98",
   "metadata": {
    "id": "2d1faa9e-6702-4923-8509-ba1d1c859f98"
   },
   "outputs": [],
   "source": [
    "# alternative plotting function (looks nicer)\n",
    "import numpy as np\n",
    "import matplotlib.pyplot as plt\n",
    "\n",
    "def plot_connect4(board, ax=None):\n",
    "    \"\"\"\n",
    "    Plots a Connect 4 board using Matplotlib.\n",
    "\n",
    "    Parameters:\n",
    "        board (3D numpy array): A 2x6x7 matrix representing the board state.\n",
    "                                Player 1 is the first 6x7 board and Player 2 is the 2nd 6x7 board.\n",
    "                                0 for empty, 1 for occupied board space.\n",
    "        ax (matplotlib.axes): Matplotlib Axes object to plot on (optional).\n",
    "    \"\"\"\n",
    "    rows, cols = board[0].shape\n",
    "    if ax is None:\n",
    "        fig, ax = plt.subplots(figsize=(7, 6))\n",
    "\n",
    "    # Plot grid\n",
    "    for row in range(rows):\n",
    "        for col in range(cols):\n",
    "            color = \"white\"  # Default empty color\n",
    "            if board[0,row, col] == 1:\n",
    "                color = \"red\"  # Player 1's pieces\n",
    "            elif board[1,row, col] == 1:\n",
    "                color = \"yellow\"  # Player 2's pieces\n",
    "\n",
    "            # Draw a circle for each slot\n",
    "            circle = plt.Circle((col + 0.5, rows - row - 0.5), 0.4, color=color, ec=\"black\", lw=1)\n",
    "            ax.add_patch(circle)\n",
    "\n",
    "    # Configure axis\n",
    "    ax.set_xlim(0, cols)\n",
    "    ax.set_ylim(0, rows)\n",
    "    ax.set_xticks(np.arange(cols) + 0.5, labels=np.arange(1, cols + 1))\n",
    "    ax.set_yticks(np.arange(rows) + 0.5, labels=np.arange(rows, 0, -1))\n",
    "    ax.grid(False)\n",
    "    ax.set_aspect('equal')\n",
    "    ax.set_facecolor(\"blue\")  # Board background color\n",
    "    ax.tick_params(left=False, bottom=False, labelsize=12)\n",
    "\n",
    "    plt.show()"
   ]
  },
  {
   "cell_type": "code",
   "execution_count": 21,
   "id": "a22f41b7-abaf-4474-8458-de51d500f9ad",
   "metadata": {
    "colab": {
     "base_uri": "https://localhost:8080/",
     "height": 865
    },
    "id": "a22f41b7-abaf-4474-8458-de51d500f9ad",
    "outputId": "aac7ff96-32bf-4891-a55c-57ffad3c9bda"
   },
   "outputs": [
    {
     "data": {
      "image/png": "[encoded data removed]",
      "text/plain": [
       "<Figure size 700x600 with 1 Axes>"
      ]
     },
     "metadata": {},
     "output_type": "display_data"
    },
    {
     "name": "stdout",
     "output_type": "stream",
     "text": [
      "The winner is d-yellow\n"
     ]
    }
   ],
   "source": [
    "###### this is how you can play a game\n",
    "winner = 'nobody'\n",
    "board = np.zeros((2,6,7))\n",
    "plot_connect4(board)\n",
    "player = 'red'\n",
    "\n",
    "human_player = input('Which player would you like to be? Red or yellow? Red goes first.')\n",
    "if human_player == 'red':\n",
    "  bot_player = 'yellow'\n",
    "else:\n",
    "  bot_player = 'red'\n",
    "\n",
    "while winner == 'nobody':\n",
    "    if player == human_player:\n",
    "        move = input('Pick a move (1-7) for player '+player+': ')\n",
    "        move = int(move) - 1\n",
    "        board = update_board(board,player,move)\n",
    "        clear_output()\n",
    "        plot_connect4(board)\n",
    "        winner = check_for_win(board,move)\n",
    "    elif player != human_player:\n",
    "        print('Bot is thinking...')\n",
    "        move = better_mcts(board, player, 1500)\n",
    "        board = update_board(board,player,move)\n",
    "        clear_output()\n",
    "        plot_connect4(board)\n",
    "        winner = check_for_win(board,move)\n",
    "    if player == 'red':\n",
    "        player = 'yellow'\n",
    "    else:\n",
    "        player = 'red'\n",
    "\n",
    "print('The winner is '+winner)"
   ]
  },
  {
   "cell_type": "code",
   "execution_count": null,
   "id": "08be3292-a76d-4f81-a296-5fe93a45e142",
   "metadata": {
    "id": "08be3292-a76d-4f81-a296-5fe93a45e142"
   },
   "outputs": [],
   "source": []
  }
 ],
 "metadata": {
  "colab": {
   "provenance": []
  },
  "kernelspec": {
   "display_name": "Python 3 (ipykernel)",
   "language": "python",
   "name": "python3"
  },
  "language_info": {
   "codemirror_mode": {
    "name": "ipython",
    "version": 3
   },
   "file_extension": ".py",
   "mimetype": "text/x-python",
   "name": "python",
   "nbconvert_exporter": "python",
   "pygments_lexer": "ipython3",
   "version": "3.12.4"
  }
 },
 "nbformat": 4,
 "nbformat_minor": 5
}
